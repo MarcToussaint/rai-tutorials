{
 "cells": [
  {
   "cell_type": "markdown",
   "id": "94bf0959",
   "metadata": {},
   "source": [
    "# Manipulation Modelling & Execution\n",
    "\n",
    "The discussed components (KOMO, BotOp, NLP_Solver, RRT) provide basic ingredients for manipulation planning and execution. This tutorial is about how to practically use these in typical manipulation settings.\n",
    "\n",
    "The first focus is on *manipulation modelling*. While KOMO provides a very powerful abstract framework to define all kinds of constraints, here we discuss what are concrete useful constraints for typical actions, e.g., picking and placing a box, or capsule. The *ManipulationModelling* class is meant to translate between typical actions and the abstract KOMO specification of the corresponding constraints.\n",
    "\n",
    "The second focus is on the whole pipeline. We follow a basic sense-plan-act pipeline (not yet a fully integrated reactive framework such as SecMPC). To be more detailed, we assume the following basic steps in each loop:\n",
    "* Perception: Update the configuration model to be in sync with the real world - using perception.\n",
    "* Discrete decisions (task planning): Decide on discrete next actions, such as which object to pick or place next.\n",
    "* Waypoint planning: Model the manipulation constraints for the next few actions and solve them to get a plan for the next few waypoints.\n",
    "* Path planning: Create a fine-grained path/trajectory between waypoints, sometimes justing quick interpolation & optimization, sometimes using full fledge path finding (bi-directional RRT).\n",
    "* Execution: Sending the path to BotOp for running it on the real system.\n",
    "\n",
    "We neglect perception and discrete decision making here."
   ]
  },
  {
   "cell_type": "markdown",
   "id": "aa8bba6a",
   "metadata": {},
   "source": [
    "## Manipulation Modelling\n",
    "\n",
    "We start with discussing manipulation modelling for standard box/cylinder grasping and placing."
   ]
  },
  {
   "cell_type": "code",
   "execution_count": 1,
   "id": "a13d9bd0",
   "metadata": {},
   "outputs": [],
   "source": [
    "import robotic as ry\n",
    "import numpy as np\n",
    "import random\n",
    "import time\n",
    "\n",
    "# this import the local manipulation.py .. to be integrated in robotic..\n",
    "import manipulation as manip"
   ]
  },
  {
   "cell_type": "markdown",
   "id": "b913c478",
   "metadata": {},
   "source": [
    "A basic configuration with a box and cylinder:"
   ]
  },
  {
   "cell_type": "code",
   "execution_count": 2,
   "id": "caf624e0",
   "metadata": {},
   "outputs": [
    {
     "data": {
      "text/plain": [
       "0"
      ]
     },
     "execution_count": 2,
     "metadata": {},
     "output_type": "execute_result"
    }
   ],
   "source": [
    "C = ry.Config()\n",
    "C.addFile(ry.raiPath('scenarios/pandaSingle.g'))\n",
    "\n",
    "C.addFrame('box') \\\n",
    "    .setPosition([-.25,.1,1.]) \\\n",
    "    .setShape(ry.ST.ssBox, size=[.06,.06,.06,.005]) \\\n",
    "    .setColor([1,.5,0]) \\\n",
    "    .setContact(1)\n",
    "\n",
    "C.addFrame(\"capsule\") \\\n",
    "    .setShape(ry.ST.capsule, [.2,.02]) \\\n",
    "    .setPosition([.25,.1,1.]) \\\n",
    "    .setColor([1,.5,0]) \\\n",
    "    .setContact(1)\n",
    "\n",
    "# for convenience, a few definitions:\n",
    "qHome = C.getJointState()\n",
    "gripper = \"l_gripper\";\n",
    "palm = \"l_palm\";\n",
    "box = \"box\";\n",
    "table = \"table\";\n",
    "boxSize = C.frame(box).getSize()\n",
    "\n",
    "C.view()"
   ]
  },
  {
   "cell_type": "markdown",
   "id": "c7f564ac",
   "metadata": {},
   "source": [
    "Look into the definition of *ManipulationModelling* class! You see that this class provides wrapper methods to setup a komo problem. The following demonstrate the methods provided to model box and cylinder grasping IK problems:"
   ]
  },
  {
   "cell_type": "markdown",
   "id": "2ab84a9b",
   "metadata": {},
   "source": [
    "### Box centered top grasp\n",
    "There are 6 possible orientation of an orthonormal centered box grasp. Have a look at the `grasp_top_box` method!"
   ]
  },
  {
   "cell_type": "code",
   "execution_count": 3,
   "id": "e16fa08c",
   "metadata": {},
   "outputs": [],
   "source": [
    "C.setJointState(qHome)\n",
    "for orientation in ['xy', 'xz', 'yx', 'yz', 'zx', 'zy']: #loops over the 6 possible grasps\n",
    "    # setup the manipulation problem\n",
    "    man = manip.ManipulationModelling(C)\n",
    "    man.setup_inverse_kinematics()\n",
    "    man.grasp_top_box(1., gripper, box, orientation)\n",
    "    \n",
    "    # solve it\n",
    "    pose, ret = man.solve()\n",
    "    \n",
    "    # check feasibility and display\n",
    "    if ret.feasible:\n",
    "        C.setJointState(pose[0])\n",
    "        C.view(True, f'grasp_top_box with orientation {orientation}\\nret: {ret}')\n",
    "    else:\n",
    "        print(' -- infeasible')"
   ]
  },
  {
   "cell_type": "markdown",
   "id": "b73a260d",
   "metadata": {},
   "source": [
    "### Box general grasp\n",
    "We do not have to grasp a box in the center or orthonormally. We can only specify along which axis the fingers should press, and that they need to be inside a margin of the box sides.  Have a look at the `grasp_box` method! To illustrate the gained degrees of freedom, we also impose a random bias (leading to different solutions in nullspace):"
   ]
  },
  {
   "cell_type": "code",
   "execution_count": 4,
   "id": "dd066bb7",
   "metadata": {},
   "outputs": [
    {
     "name": "stdout",
     "output_type": "stream",
     "text": [
      "-- infeasible 1 y\n",
      "-- infeasible 8 y\n"
     ]
    }
   ],
   "source": [
    "C.setJointState(qHome)\n",
    "limits = C.getJointLimits()\n",
    "for orientation in ['x', 'y', 'z']:\n",
    "    for i in range(10):\n",
    "        # setup the manipulation problem\n",
    "        man = manip.ManipulationModelling(C)\n",
    "        man.setup_inverse_kinematics()\n",
    "        # ... with random bias in joint space\n",
    "        qBias = limits[0]+np.random.uniform(qHome.shape)%(limits[1]-limits[0])\n",
    "        man.bias(1., qBias, 1e0)\n",
    "        # ... and general, non-centered box grasping\n",
    "        man.grasp_box(1., gripper, box, palm, orientation, margin=.02)\n",
    "        \n",
    "        # solve\n",
    "        pose, ret = man.solve()\n",
    "        \n",
    "        # if feasible, display\n",
    "        if ret.feasible:\n",
    "            C.setJointState(pose[0])\n",
    "            C.view(True, f'grasp_box with orientation {orientation}\\nret: {ret}')\n",
    "        else:\n",
    "            print('-- infeasible', i, orientation)"
   ]
  },
  {
   "cell_type": "markdown",
   "id": "2b4bc84d",
   "metadata": {},
   "source": [
    "### Cylinder grasp\n",
    "\n",
    "A cylinder (or capsule) can be grasped by ensuring the finger axis is normal to the cylinder's axis -- have a look at the `grasp_cylinder` method. Again, a demo with random bias to show the variety of grasps modelled that way:"
   ]
  },
  {
   "cell_type": "code",
   "execution_count": 5,
   "id": "301f497d",
   "metadata": {},
   "outputs": [
    {
     "name": "stdout",
     "output_type": "stream",
     "text": [
      "-- infeasible 0 z\n"
     ]
    }
   ],
   "source": [
    "C.setJointState(qHome)\n",
    "limits = C.getJointLimits()\n",
    "for i in range(10):\n",
    "    # setup the manipulation problem\n",
    "    man = manip.ManipulationModelling(C)\n",
    "    man.setup_inverse_kinematics()\n",
    "    qBias = limits[0]+np.random.uniform(qHome.shape)%(limits[1]-limits[0])\n",
    "    man.bias(1., qBias, 1e0)\n",
    "    man.grasp_cylinder(1., gripper, 'capsule', palm)\n",
    "    \n",
    "    # solve\n",
    "    pose, ret = man.solve()\n",
    "    \n",
    "    # if feasible, display\n",
    "    if ret.feasible:\n",
    "        C.setJointState(pose[0])\n",
    "        C.view(True, f'grasp_cylinder\\nret: {ret}')\n",
    "    else:\n",
    "        print('-- infeasible', i, orientation)"
   ]
  },
  {
   "cell_type": "markdown",
   "id": "61b864f4",
   "metadata": {},
   "source": [
    "## Sequential Manipulation Modelling\n",
    "\n",
    "Sequential manipulation modelling is special, as in some phases the manipulated objects move with the manipulator. Internally, komo models this with a *mode switch* (where an object becomes attached to the manipulator with a stable (but optimizable) relative transform).\n",
    "\n",
    "Using the ManipulationModelling class, the `setup_pick_and_place_waypoints` method creates a two-time-steps komo problem where the relative object-gripper position is constrained to be the same in the 1st and 2st step (as it is parameterized by a shared relative kinematic joint). The `grasp_box` method ensures that the solution *also* fulfils grasp constraints in the first time step; and the `place_box` method ensures that the solution *also* fulfils placement constraints in the second time step. The additional `target_relative_xy_position` is optional, so see placement to explicit xy-positions on the table. Have a look at the definitions of all these methods."
   ]
  },
  {
   "cell_type": "code",
   "execution_count": 25,
   "id": "cbf6f327",
   "metadata": {},
   "outputs": [
    {
     "data": {
      "text/plain": [
       "13"
      ]
     },
     "execution_count": 25,
     "metadata": {},
     "output_type": "execute_result"
    }
   ],
   "source": [
    "C.setJointState(qHome)\n",
    "\n",
    "for i in range(10):\n",
    "    grasp_ori = random.choice(['x', 'y', 'z'])\n",
    "    place_ori = 'z' #random.choice(['x', 'y', 'z'])\n",
    "    info = f'pnp {i}, grasp orientation {grasp_ori}, place orientation {place_ori}'\n",
    "    print('===', info)\n",
    "    \n",
    "    # setup manipulation problem\n",
    "    man = manip.ManipulationModelling(C)\n",
    "    man.setup_pick_and_place_waypoints(gripper, box)\n",
    "    man.grasp_box(1., gripper, box, palm, grasp_ori)\n",
    "    man.place_box(2., box, table, palm, place_ori)\n",
    "    man.target_relative_xy_position(2., box, table, [(i%5)*.1-.2, .2])\n",
    "    \n",
    "    # solve\n",
    "    q, ret = man.solve()\n",
    "\n",
    "    # if feasible, display (including 'fake' simulation with kinematic attach)\n",
    "    if ret.feasible:\n",
    "        C.setJointState(q[0])\n",
    "        C.view(True, f'{info}\\nwaypoint 0\\nret: {ret}')\n",
    "        C.attach(gripper, box)\n",
    "        C.setJointState(q[1])\n",
    "        C.view(True, f'{info}\\nwaypoint 1\\nret: {ret}')\n",
    "        C.attach(table, box)\n",
    "        C.setJointState(qHome)\n",
    "        C.view(True, 'back home')\n",
    "    else:\n",
    "        print(' -- infeasible')\n",
    "\n",
    "del man\n",
    "C.frame('box').setPosition([-.25,.1,1.])\n",
    "C.view()"
   ]
  },
  {
   "cell_type": "markdown",
   "id": "9c96d8a9",
   "metadata": {},
   "source": [
    "## Path generation\n",
    "\n",
    "Once solutions to the manipulation keyframes/waypoints are available, the next step is to generate motion between them. We can use sample-based path finding (bi-directional RRT) and/or smooth motion optimization for this."
   ]
  },
  {
   "cell_type": "markdown",
   "id": "36c75c59",
   "metadata": {},
   "source": [
    "### Smooth point-to-point motion\n",
    "The following demonstrates smooth point-to-point motion between box grasps, there the motion is additionally constrains the endeffector to retract and approach:"
   ]
  },
  {
   "cell_type": "code",
   "execution_count": 26,
   "id": "5a241da0",
   "metadata": {},
   "outputs": [
    {
     "name": "stdout",
     "output_type": "stream",
     "text": [
      "=== 0 orientation z\n",
      "    IK: { time: 0.016926, evals: 38, done: 1, feasible: 1, sos: 0.0547024, f: 0, ineq: 0, eq: 5.42081e-07 }\n",
      "  path: { time: 0.051555, evals: 33, done: 1, feasible: 1, sos: 2.32512, f: 0, ineq: 8.16764e-07, eq: 4.89434e-05 }\n",
      "=== 1 orientation y\n",
      "    IK: { time: 0.033514, evals: 39, done: 1, feasible: 1, sos: 0.00679636, f: 0, ineq: 3.17618e-06, eq: 4.31737e-05 }\n",
      "  path: { time: 0.035542, evals: 32, done: 1, feasible: 1, sos: 2.06634, f: 0, ineq: 8.45329e-07, eq: 0.000303098 }\n",
      "=== 2 orientation z\n",
      "    IK: { time: 0.019448, evals: 41, done: 1, feasible: 1, sos: 0.0547024, f: 0, ineq: 0, eq: 5.26221e-07 }\n",
      "  path: { time: 0.040584, evals: 20, done: 1, feasible: 1, sos: 2.01013, f: 0, ineq: 9.68448e-07, eq: 0.000912529 }\n",
      "=== 3 orientation y\n",
      "    IK: { time: 0.038841, evals: 59, done: 1, feasible: 1, sos: 0.00679636, f: 0, ineq: 3.11412e-06, eq: 4.40807e-05 }\n",
      "  path: { time: 0.037002, evals: 35, done: 1, feasible: 1, sos: 2.06634, f: 0, ineq: 8.4471e-07, eq: 0.000303112 }\n",
      "=== 4 orientation z\n",
      "    IK: { time: 0.054521, evals: 155, done: 1, feasible: 1, sos: 0.0240775, f: 0, ineq: 0, eq: 0.00486468 }\n",
      "  path: { time: 0.026237, evals: 25, done: 1, feasible: 1, sos: 1.49777, f: 0, ineq: 2.26716e-06, eq: 0.000649121 }\n",
      "=== 5 orientation z\n",
      "    IK: { time: 0.036782, evals: 70, done: 1, feasible: 1, sos: 0.0240754, f: 0, ineq: 4.93665e-05, eq: 0.00482686 }\n",
      "  path: { time: 0.013817, evals: 12, done: 1, feasible: 1, sos: 0.411045, f: 0, ineq: 1.13603e-06, eq: 0.00896349 }\n",
      "=== 6 orientation z\n",
      "    IK: { time: 0.029546, evals: 80, done: 1, feasible: 1, sos: 0.0240753, f: 0, ineq: 3.56032e-05, eq: 0.00481824 }\n",
      "  path: { time: 0.012147, evals: 10, done: 1, feasible: 1, sos: 0.411084, f: 0, ineq: 1.13644e-06, eq: 0.00896976 }\n",
      "=== 7 orientation z\n",
      "    IK: { time: 0.049795, evals: 63, done: 1, feasible: 1, sos: 0.0240756, f: 0, ineq: 0, eq: 0.00482878 }\n",
      "  path: { time: 0.02043, evals: 10, done: 1, feasible: 1, sos: 0.411069, f: 0, ineq: 1.13625e-06, eq: 0.00896754 }\n",
      "=== 8 orientation y\n",
      "    IK: { time: 0.011521, evals: 37, done: 1, feasible: 1, sos: 0.00679645, f: 0, ineq: 0, eq: 5.59304e-05 }\n",
      "  path: { time: 0.033702, evals: 28, done: 1, feasible: 1, sos: 1.41109, f: 0, ineq: 6.00799e-07, eq: 9.70748e-05 }\n",
      "=== 9 orientation x\n",
      "    IK: { time: 0.01085, evals: 19, done: 1, feasible: 1, sos: 0.0139755, f: 0, ineq: 2.32558e-08, eq: 2.83611e-07 }\n",
      "  path: { time: 0.043971, evals: 33, done: 1, feasible: 1, sos: 1.00047, f: 0, ineq: 1.17533e-06, eq: 0.000165688 }\n",
      "=== 10 orientation y\n",
      "    IK: { time: 0.037563, evals: 30, done: 1, feasible: 1, sos: 0.00679634, f: 0, ineq: 2.69865e-06, eq: 4.7418e-05 }\n",
      "  path: { time: 0.035857, evals: 24, done: 1, feasible: 1, sos: 1.00564, f: 0, ineq: 1.04402e-06, eq: 0.00029829 }\n",
      "=== 11 orientation z\n",
      "    IK: { time: 0.0353, evals: 67, done: 1, feasible: 1, sos: 0.0547024, f: 0, ineq: 0, eq: 5.24089e-07 }\n",
      "  path: { time: 0.035285, evals: 19, done: 1, feasible: 1, sos: 2.01012, f: 0, ineq: 9.68829e-07, eq: 0.000913233 }\n",
      "=== 12 orientation y\n",
      "    IK: { time: 0.040249, evals: 64, done: 1, feasible: 1, sos: 0.0533686, f: 0, ineq: 1.25804e-07, eq: 5.26742e-07 }\n",
      "  path: { time: 0.028405, evals: 25, done: 1, feasible: 1, sos: 2.34189, f: 0, ineq: 1.92349e-06, eq: 0.000941083 }\n",
      "=== 13 orientation y\n",
      "    IK: { time: 0.007401, evals: 24, done: 1, feasible: 1, sos: 0.0533686, f: 0, ineq: 1.33835e-07, eq: 5.53876e-07 }\n",
      "  path: { time: 0.018631, evals: 13, done: 1, feasible: 1, sos: 0.436397, f: 0, ineq: 1.21819e-06, eq: 0.000522909 }\n",
      "=== 14 orientation x\n",
      "    IK: { time: 0.011929, evals: 17, done: 1, feasible: 1, sos: 0.0139755, f: 0, ineq: 1.20787e-08, eq: 2.32626e-07 }\n",
      "  path: { time: 0.047402, evals: 20, done: 1, feasible: 1, sos: 1.14355, f: 0, ineq: 9.59429e-07, eq: 0.000122674 }\n",
      "=== 15 orientation y\n",
      "    IK: { time: 0.032842, evals: 28, done: 1, feasible: 1, sos: 0.00679635, f: 0, ineq: 3.23798e-06, eq: 4.69966e-05 }\n",
      "  path: { time: 0.035764, evals: 24, done: 1, feasible: 1, sos: 1.00564, f: 0, ineq: 1.04401e-06, eq: 0.000298287 }\n",
      "=== 16 orientation x\n",
      "    IK: { time: 0.035935, evals: 36, done: 1, feasible: 1, sos: 0.044936, f: 0, ineq: 1.6098e-08, eq: 1.14571e-06 }\n",
      "  path: { time: 0.030345, evals: 21, done: 1, feasible: 1, sos: 1.35588, f: 0, ineq: 1.32037e-06, eq: 0.000116344 }\n",
      "=== 17 orientation z\n",
      "    IK: { time: 0.08159, evals: 151, done: 1, feasible: 1, sos: 0.0394137, f: 0, ineq: 0.000399636, eq: 1.17088e-05 }\n",
      "  path: { time: 0.048566, evals: 25, done: 1, feasible: 1, sos: 1.82863, f: 0, ineq: 3.35399e-06, eq: 0.000622847 }\n",
      "=== 18 orientation x\n",
      "    IK: { time: 0.039479, evals: 59, done: 1, feasible: 1, sos: 0.0449344, f: 0, ineq: 0, eq: 5.49263e-05 }\n",
      "  path: { time: 0.027112, evals: 23, done: 1, feasible: 1, sos: 1.77078, f: 0, ineq: 1.42935e-06, eq: 8.91698e-05 }\n",
      "=== 19 orientation x\n",
      "    IK: { time: 0.013924, evals: 38, done: 1, feasible: 1, sos: 0.044936, f: 0, ineq: 1.73455e-08, eq: 1.14258e-06 }\n",
      "  path: { time: 0.014611, evals: 9, done: 1, feasible: 1, sos: 0.426691, f: 0, ineq: 1.12005e-06, eq: 0.00103327 }\n"
     ]
    }
   ],
   "source": [
    "C.setJointState(qHome)\n",
    "limits = C.getJointLimits()\n",
    "verbose = 0\n",
    "\n",
    "for i in range(20):\n",
    "    qStart = C.getJointState()\n",
    "    \n",
    "    # choose a random grasp orientation\n",
    "    orientation = random.choice(['x', 'y', 'z'])\n",
    "    print('===', i, 'orientation', orientation)\n",
    "    \n",
    "    # setup the grasp problem\n",
    "    man = manip.ManipulationModelling(C)\n",
    "    man.setup_inverse_kinematics(accumulated_collisions=True)\n",
    "    man.grasp_box(1., gripper, box, palm, orientation)\n",
    "    \n",
    "    # solve\n",
    "    pose, ret = man.solve()\n",
    "    print('    IK:', ret)\n",
    "    \n",
    "    # if feasible, display; otherwise try another grasp\n",
    "    if ret.feasible:\n",
    "        if verbose>0:\n",
    "            C.setJointState(pose[0])\n",
    "            C.view(True, f'grasp {i} with orientation {orientation}\\nret: {ret}')\n",
    "    else:\n",
    "        print('  -- infeasible')\n",
    "        C.setJointState(qStart)\n",
    "        continue\n",
    "\n",
    "    # setup the motion problem\n",
    "    man = manip.ManipulationModelling(C)\n",
    "    man.setup_point_to_point_motion(qStart, pose[0], accumulated_collisions=True, helpers=[gripper])\n",
    "    man.endeff_retract([.0, .2], gripper)\n",
    "    man.endeff_approach([.8, 1.], gripper)\n",
    "    \n",
    "    # solve\n",
    "    path, ret = man.solve()\n",
    "    print('  path:', ret)\n",
    "\n",
    "    # if feasible, display trivially (no real execution in BotOp here)\n",
    "    if ret.feasible:\n",
    "        for t in range(path.shape[0]):\n",
    "            C.setJointState(path[t])\n",
    "            C.view(False, f'grasp {i} with orientation {orientation}, path step {t}\\n{ret}')\n",
    "            time.sleep(.05)\n",
    "        C.view(verbose>0, f'path done')\n",
    "    else:\n",
    "        print('  -- infeasible')\n",
    "        \n",
    "del man"
   ]
  },
  {
   "cell_type": "markdown",
   "id": "bebd5d0e",
   "metadata": {},
   "source": [
    "## Integrated Example\n",
    "\n",
    "Let's start with an integrated example, where the robot endlessly loops through picking and placing a box on a table."
   ]
  },
  {
   "cell_type": "code",
   "execution_count": 27,
   "id": "a83f9b03",
   "metadata": {},
   "outputs": [],
   "source": [
    "exit()"
   ]
  },
  {
   "cell_type": "code",
   "execution_count": 1,
   "id": "8d6ad421",
   "metadata": {},
   "outputs": [],
   "source": [
    "import robotic as ry\n",
    "import manipulation as manip\n",
    "from importlib import reload\n",
    "import time\n",
    "import random"
   ]
  },
  {
   "cell_type": "markdown",
   "id": "1bebb1bf",
   "metadata": {},
   "source": [
    "We define a basic configuration with box on the table:"
   ]
  },
  {
   "cell_type": "code",
   "execution_count": 2,
   "id": "dc1db72a",
   "metadata": {},
   "outputs": [
    {
     "data": {
      "text/plain": [
       "0"
      ]
     },
     "execution_count": 2,
     "metadata": {},
     "output_type": "execute_result"
    }
   ],
   "source": [
    "C = ry.Config()\n",
    "C.addFile(ry.raiPath('../rai-robotModels/scenarios/pandaSingle.g'))\n",
    "\n",
    "C.addFrame(\"box\", \"table\") \\\n",
    "    .setJoint(ry.JT.rigid) \\\n",
    "    .setShape(ry.ST.ssBox, [.06,.15,.06,.005]) \\\n",
    "    .setRelativePosition([-.0,.3-.055,.095]) \\\n",
    "    .setMass(.1)\n",
    "\n",
    "# for convenience, a few definitions:\n",
    "qHome = C.getJointState()\n",
    "gripper = \"l_gripper\";\n",
    "palm = \"l_palm\";\n",
    "box = \"box\";\n",
    "table = \"table\";\n",
    "boxSize = C.frame(box).getSize()\n",
    "\n",
    "C.view()"
   ]
  },
  {
   "cell_type": "markdown",
   "id": "63b89383",
   "metadata": {},
   "source": [
    "Here is the full loop, to be explained below:"
   ]
  },
  {
   "cell_type": "code",
   "execution_count": 3,
   "id": "34ec695e",
   "metadata": {},
   "outputs": [
    {
     "name": "stdout",
     "output_type": "stream",
     "text": [
      "=== placement 0: grasp x place zNeg\n",
      "  -- waypoints not feasible\n",
      "=== placement 1: grasp x place yNeg\n",
      "=== placement 2: grasp z place xNeg\n",
      "=== placement 3: grasp z place y\n",
      "=== placement 4: grasp z place z\n",
      "  -- waypoints not feasible\n",
      "=== placement 5: grasp x place yNeg\n",
      "  -- waypoints not feasible\n",
      "=== placement 6: grasp z place x\n",
      "=== placement 7: grasp z place xNeg\n",
      "  -- waypoints not feasible\n",
      "=== placement 8: grasp z place y\n",
      "=== placement 9: grasp z place y\n",
      "=== placement 10: grasp z place y\n",
      "=== placement 11: grasp x place yNeg\n",
      "  -- waypoints not feasible\n",
      "=== placement 12: grasp z place z\n",
      "  -- waypoints not feasible\n",
      "=== placement 13: grasp z place zNeg\n",
      "  -- waypoints not feasible\n",
      "=== placement 14: grasp z place x\n",
      "=== placement 15: grasp x place z\n",
      "  -- waypoints not feasible\n",
      "=== placement 16: grasp z place x\n",
      "=== placement 17: grasp z place z\n",
      "  -- waypoints not feasible\n",
      "=== placement 18: grasp x place x\n",
      "  -- waypoints not feasible\n",
      "=== placement 19: grasp x place xNeg\n",
      "  -- waypoints not feasible\n"
     ]
    }
   ],
   "source": [
    "C.setJointState(qHome)\n",
    "C.view_raise()\n",
    "\n",
    "for l in range(10):\n",
    "        qStart = C.getJointState()\n",
    "\n",
    "        graspDirection = random.choice(['x', 'z']) #'y' not possible: box too large\n",
    "        placeDirection = random.choice(['x', 'y', 'z', 'xNeg', 'yNeg', 'zNeg'])\n",
    "        info = f'placement {l}: grasp {graspDirection} place {placeDirection}'\n",
    "        print('===', info)\n",
    "\n",
    "        M = manip.ManipulationModelling(C)\n",
    "        M.setup_pick_and_place_waypoints(gripper, box, homing_scale=1e-1)\n",
    "        M.grasp_box(1., gripper, box, palm, graspDirection)\n",
    "        M.no_collision([1.], palm, table)\n",
    "        M.place_box(2., box, table, palm, placeDirection)\n",
    "        M.target_relative_xy_position(2., box, table, [.2, .3])\n",
    "        ways, ret = M.solve(verbose=0)\n",
    "\n",
    "#         M.komo.view(True, f'waypoint planning result\\n{info}\\nfeasible: {ret.feasible}')\n",
    "\n",
    "        if not ret.feasible:\n",
    "                print('  -- waypoints not feasible')\n",
    "                continue\n",
    "\n",
    "        M = manip.ManipulationModelling(C)\n",
    "        M.setup_point_to_point_motion(qStart, ways[0], helpers=[gripper])\n",
    "        M.no_collision([.3,.7], palm, box, margin=.05)\n",
    "        M.endeff_retract([.0, .2], gripper)\n",
    "        M.endeff_approach([.8, 1.], gripper)\n",
    "        path, ret = M.solve(verbose=0)\n",
    "\n",
    "        if not ret.feasible:\n",
    "            print('  -- pick not feasible')\n",
    "            continue\n",
    "        else:\n",
    "            # bot.move(path, [2.])\n",
    "            # bot.wait(C)\n",
    "            for t in range(path.shape[0]):\n",
    "                C.setJointState(path[t])\n",
    "                C.view(False, f'pick step {t}\\n{info}')\n",
    "                time.sleep(.1)\n",
    "\n",
    "        C.attach(gripper, box)\n",
    "\n",
    "        M = manip.ManipulationModelling(C)\n",
    "        M.setup_point_to_point_motion(ways[0], ways[1])\n",
    "        M.no_collision([], table, box)\n",
    "        path, ret = M.solve(verbose=0)\n",
    "\n",
    "        if not ret.feasible:\n",
    "            print('  -- place not feasible')\n",
    "        else:\n",
    "#             bot.move(path, [2.])\n",
    "#             bot.wait(C)\n",
    "            for t in range(path.shape[0]):\n",
    "                C.setJointState(path[t])\n",
    "                C.view(False, f'place step {t}\\n{info}')\n",
    "                time.sleep(.1)\n",
    "\n",
    "        C.attach(table, box)\n",
    "\n",
    "del M"
   ]
  },
  {
   "cell_type": "markdown",
   "id": "064ecdbc",
   "metadata": {},
   "source": [
    "## TODOS:\n",
    "* Proper execution: BotOp instead of display with C\n",
    "* RRTs\n",
    "* additional planar motion constraint for in-plane manipulation\n",
    "* more typical manipulation constraints: camera_look_at, push_straight, "
   ]
  },
  {
   "cell_type": "code",
   "execution_count": 4,
   "id": "06e94d97",
   "metadata": {},
   "outputs": [],
   "source": [
    "del C"
   ]
  },
  {
   "cell_type": "code",
   "execution_count": null,
   "id": "3f67eeb3",
   "metadata": {},
   "outputs": [],
   "source": []
  }
 ],
 "metadata": {
  "kernelspec": {
   "display_name": "Python 3 (ipykernel)",
   "language": "python",
   "name": "python3"
  },
  "language_info": {
   "codemirror_mode": {
    "name": "ipython",
    "version": 3
   },
   "file_extension": ".py",
   "mimetype": "text/x-python",
   "name": "python",
   "nbconvert_exporter": "python",
   "pygments_lexer": "ipython3",
   "version": "3.8.10"
  }
 },
 "nbformat": 4,
 "nbformat_minor": 5
}

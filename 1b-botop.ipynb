{
 "cells": [
  {
   "cell_type": "markdown",
   "id": "e193f01d",
   "metadata": {},
   "source": [
    "# BotOp (Robot Operation) interface\n",
    "\n",
    "BotOp (=robot operation) defines a very narrow interface to control a real or simulated robot. While in initial years we tried all kinds of other interfaces (ROS-given, operational space control interfaces, controller state machines, etc), this one seems most pragmatic, simple, transparent, and compatible to our research work at the LIS research team. There is no ROS or complex IPC involved, just a few threads (communicating with hardwares) interfaced via BotOp.\n",
    "\n",
    "The interface essentially provides move methods to set/overwrite a spline reference for the robot. (Also compliance around the reference can be set.) Gripper methods to operate grippers. And getImage.. methods grab images or point clouds from the camera.\n",
    "\n",
    "This interface quite different to a more *generic physical simulation* interface. If you're interested in the latter (e.g. to implement a gym environment) look at the `Simulation` tutorial. BotOp uses a `Simulation` (optionally) as an underlying engine, but is quite different in that it is wrapped as a real-time threaded process that emulates the specific BotOp interface to a real robot -- to make it swappable with a real robot. If BotOp it run in simulation mode, the simulation can be run in many different modes: pure kinematic (no physics for objects), a physics simulator with physics for objects but still kinematic robot, a physic simulator with PD motors for the robot."
   ]
  },
  {
   "cell_type": "markdown",
   "id": "204e6960",
   "metadata": {},
   "source": [
    "## Sending motion based on IK\n",
    "\n",
    "We'll show how to make the robot move to pre-computed joint space poses, e.g. computed via IK. Later we modify this to *overwriting* the motion reference with high frequency, which essentially realizes MPC-style control.\n",
    "\n",
    "The first step (also for operating the real robot) is always to load a configuration:"
   ]
  },
  {
   "cell_type": "code",
   "execution_count": 1,
   "id": "31a434d3",
   "metadata": {},
   "outputs": [],
   "source": [
    "from robotic import ry\n",
    "import numpy as np\n",
    "import time"
   ]
  },
  {
   "cell_type": "code",
   "execution_count": 2,
   "id": "d1bff41b",
   "metadata": {},
   "outputs": [
    {
     "data": {
      "text/plain": [
       "0"
      ]
     },
     "execution_count": 2,
     "metadata": {},
     "output_type": "execute_result"
    }
   ],
   "source": [
    "C = ry.Config()\n",
    "C.addFile(ry.raiPath('../rai-robotModels/scenarios/pandaSingle.g'))\n",
    "C.view(False, 'this is your workspace data structure C -- NOT THE SIMULTATION')"
   ]
  },
  {
   "cell_type": "markdown",
   "id": "2333c4b1",
   "metadata": {},
   "source": [
    "Let's open a BotOp interface in simulation (False). True would directly open communication to one or two pandas (depending no how many are defined in C)."
   ]
  },
  {
   "cell_type": "code",
   "execution_count": 3,
   "id": "6832eb10",
   "metadata": {},
   "outputs": [],
   "source": [
    "bot = ry.BotOp(C, useRealRobot=False)\n",
    "#note that in sim, when physx multibody is activated, arms are going down! free floating..."
   ]
  },
  {
   "cell_type": "markdown",
   "id": "c4ad9bb7",
   "metadata": {},
   "source": [
    "Note the simulation window, showing that the simulation is running in a thread and the given *control reference time*.\n",
    "\n",
    "Let's define 2 trivial reference poses, q0=home and q1=(2nd joint bend), so that we can move back and forth between them:"
   ]
  },
  {
   "cell_type": "code",
   "execution_count": 4,
   "id": "afe800f7",
   "metadata": {},
   "outputs": [
    {
     "name": "stdout",
     "output_type": "stream",
     "text": [
      "[ 0.  -0.5  0.  -2.   0.   2.  -0.5] [ 0.  -0.3  0.  -2.   0.   2.  -0.5]\n"
     ]
    }
   ],
   "source": [
    "qHome = bot.get_qHome()\n",
    "q0 = qHome.copy()\n",
    "q1 = q0.copy()\n",
    "q1[1] = q1[1] + .2\n",
    "print(q0, q1)"
   ]
  },
  {
   "cell_type": "markdown",
   "id": "86f72e9b",
   "metadata": {},
   "source": [
    "The `moveTo` is the simplest way to move the robot from current to target. It internally creates a cubic B-spline to the target with optimal timing and follows it. The call is *non-blocking*. Also, your workspace config C is not kept in sync with the real/sim. If you want to wait till the motion is finished, you need to do manually checking the `getTimeToEnd` (=time til the end of the given spline reference), and meanwhile staying sync'ed."
   ]
  },
  {
   "cell_type": "code",
   "execution_count": 5,
   "id": "443856f3",
   "metadata": {},
   "outputs": [],
   "source": [
    "bot.moveTo(q1)\n",
    "\n",
    "while bot.getTimeToEnd()>0:\n",
    "    bot.sync(C, .1)"
   ]
  },
  {
   "cell_type": "markdown",
   "id": "fa41eca8",
   "metadata": {},
   "source": [
    "We can append to the internal spline reference at any time: As `moveTo` is non-blocking, you can append several moves like this:"
   ]
  },
  {
   "cell_type": "code",
   "execution_count": 6,
   "id": "182b64dd",
   "metadata": {},
   "outputs": [
    {
     "name": "stdout",
     "output_type": "stream",
     "text": [
      "timeToEnd: -0.027281057935006015\n",
      "timeToEnd: 1.0957189420649802\n",
      "timeToEnd: 2.191437884129961\n"
     ]
    }
   ],
   "source": [
    "print('timeToEnd:', bot.getTimeToEnd())\n",
    "bot.moveTo(q0)\n",
    "print('timeToEnd:', bot.getTimeToEnd())\n",
    "bot.moveTo(q1)\n",
    "print('timeToEnd:', bot.getTimeToEnd())\n",
    "bot.moveTo(q0)\n",
    "\n",
    "while bot.getTimeToEnd()>0:\n",
    "    bot.sync(C, .1)"
   ]
  },
  {
   "cell_type": "markdown",
   "id": "abc71ed9",
   "metadata": {},
   "source": [
    "## Reactive control: Overwriting the reference\n",
    "\n",
    "Setting splines becomes reactive, when we can smoothly overwrite the spline reference with high frequency. Technically (internally), smoothly overwriting means to take the current dynamic state (pose, velocity) and create a new cubic B-spline with current state as start and given target as end, with optimal timing.\n",
    "\n",
    "To demonstrate this let's consider a more involved scenario, where the target is a frame that is randomly moving, and we use repeated IK in each cycle to track it."
   ]
  },
  {
   "cell_type": "code",
   "execution_count": 7,
   "id": "c3dbe900",
   "metadata": {},
   "outputs": [
    {
     "data": {
      "text/plain": [
       "0"
      ]
     },
     "execution_count": 7,
     "metadata": {},
     "output_type": "execute_result"
    }
   ],
   "source": [
    "#this reference frame only appears in your workspace C - not the simulation!\n",
    "target = C.addFrame('target', 'table')\n",
    "target.setShape(ry.ST.marker, [.1])\n",
    "target.setRelativePosition([0., .3, .3])\n",
    "pos = target.getPosition()\n",
    "cen = pos.copy()\n",
    "C.view()"
   ]
  },
  {
   "cell_type": "markdown",
   "id": "3b8fb304",
   "metadata": {},
   "source": [
    "The following defines a very basic Inverse Kinematics method -- you'll learn more about this in the next tutorial."
   ]
  },
  {
   "cell_type": "code",
   "execution_count": 8,
   "id": "b2a168d1",
   "metadata": {},
   "outputs": [],
   "source": [
    "def IK(C, pos):\n",
    "    q0 = C.getJointState()\n",
    "    komo = ry.KOMO(C, 1, 1, 0, False) #one phase one time slice problem, with 'delta_t=1', order=0\n",
    "    komo.addObjective([], ry.FS.jointState, [], ry.OT.sos, [1e-1], q0) #cost: close to 'current state'\n",
    "    komo.addObjective([], ry.FS.jointState, [], ry.OT.sos, [1e-1], qHome) #cost: close to qHome\n",
    "    komo.addObjective([], ry.FS.positionDiff, ['l_gripper', 'target'], ry.OT.eq, [1e1]) #constraint: gripper position\n",
    "    \n",
    "    ret = ry.NLP_Solver(komo.nlp(), verbose=0) .solve()\n",
    "    \n",
    "    return [komo.getPath()[0], ret]"
   ]
  },
  {
   "cell_type": "markdown",
   "id": "76e13a25",
   "metadata": {},
   "source": [
    "The following does *not* really move the robot: it is just 'setting' the workspace C to the IK solution. No motion is send to the real/robot:"
   ]
  },
  {
   "cell_type": "code",
   "execution_count": 9,
   "id": "4998d869",
   "metadata": {},
   "outputs": [
    {
     "name": "stdout",
     "output_type": "stream",
     "text": [
      "{ time: 0.004345, evals: 6, done: 1, feasible: 1, sos: 0.00706378, f: 0, ineq: 0, eq: 0.00174385 }\n",
      "{ time: 0.003155, evals: 4, done: 1, feasible: 1, sos: 0.00386564, f: 0, ineq: 0, eq: 0.00016904 }\n",
      "{ time: 0.000751, evals: 3, done: 1, feasible: 1, sos: 0.00363625, f: 0, ineq: 0, eq: 0.00158531 }\n",
      "{ time: 0.001832, evals: 3, done: 1, feasible: 1, sos: 0.00288209, f: 0, ineq: 0, eq: 0.00519879 }\n",
      "{ time: 0.001275, evals: 4, done: 1, feasible: 1, sos: 0.00339145, f: 0, ineq: 0, eq: 0.000175719 }\n",
      "{ time: 0.000179, evals: 3, done: 1, feasible: 1, sos: 0.00320256, f: 0, ineq: 0, eq: 0.0034764 }\n",
      "{ time: 0.001211, evals: 3, done: 1, feasible: 1, sos: 0.00295871, f: 0, ineq: 0, eq: 0.000865862 }\n",
      "{ time: 0.002219, evals: 4, done: 1, feasible: 1, sos: 0.00450242, f: 0, ineq: 0, eq: 0.000505392 }\n",
      "{ time: 0.001681, evals: 4, done: 1, feasible: 1, sos: 0.00444375, f: 0, ineq: 0, eq: 0.000134209 }\n",
      "{ time: 0.001746, evals: 4, done: 1, feasible: 1, sos: 0.00341284, f: 0, ineq: 0, eq: 0.000310683 }\n",
      "{ time: 0.001236, evals: 4, done: 1, feasible: 1, sos: 0.00367999, f: 0, ineq: 0, eq: 0.000177435 }\n",
      "{ time: 0.004543, evals: 4, done: 1, feasible: 1, sos: 0.00454188, f: 0, ineq: 0, eq: 0.0002376 }\n",
      "{ time: 0.000711, evals: 4, done: 1, feasible: 1, sos: 0.00575488, f: 0, ineq: 0, eq: 0.000408559 }\n",
      "{ time: 0.00234, evals: 3, done: 1, feasible: 1, sos: 0.0047458, f: 0, ineq: 0, eq: 0.0031217 }\n",
      "{ time: 0.010444, evals: 4, done: 1, feasible: 1, sos: 0.00756579, f: 0, ineq: 0, eq: 0.000794375 }\n",
      "{ time: 0.001274, evals: 4, done: 1, feasible: 1, sos: 0.00893173, f: 0, ineq: 0, eq: 0.000367939 }\n",
      "{ time: 0.000621, evals: 4, done: 1, feasible: 1, sos: 0.00818444, f: 0, ineq: 0, eq: 0.000196261 }\n",
      "{ time: 0.000187, evals: 3, done: 1, feasible: 1, sos: 0.00695619, f: 0, ineq: 0, eq: 0.00228631 }\n",
      "{ time: 0.002144, evals: 4, done: 1, feasible: 1, sos: 0.00849041, f: 0, ineq: 0, eq: 0.000294459 }\n",
      "{ time: 0.002251, evals: 4, done: 1, feasible: 1, sos: 0.010614, f: 0, ineq: 0, eq: 0.000532924 }\n"
     ]
    }
   ],
   "source": [
    "for t in range(20):\n",
    "    time.sleep(.1)\n",
    "    pos = cen + .98 * (pos-cen) + 0.02 * np.random.randn(3)\n",
    "    target.setPosition(pos)\n",
    "    \n",
    "    q_target, ret = IK(C, pos)\n",
    "    print(ret)\n",
    "    C.setJointState(q_target)\n",
    "    C.view()"
   ]
  },
  {
   "cell_type": "markdown",
   "id": "c0d79cae",
   "metadata": {},
   "source": [
    "We now generate reative motion by smoothly overwriting the spline reference. Increasing time cost makes it more agressive (penalized total duration of estimated cubic spline)."
   ]
  },
  {
   "cell_type": "code",
   "execution_count": 10,
   "id": "c5af1933",
   "metadata": {},
   "outputs": [],
   "source": [
    "for t in range(100):\n",
    "    bot.sync(C, .1) #keep the workspace C sync'ed to real/sim, and idle .1 sec\n",
    "    pos = cen + .98 * (pos-cen) + 0.02 * np.random.randn(3)\n",
    "    target.setPosition(pos)\n",
    "    \n",
    "    q_target, ret = IK(C, pos)\n",
    "    bot.moveTo(q_target, timeCost=5., overwrite=True)"
   ]
  },
  {
   "cell_type": "markdown",
   "id": "35e22aa1",
   "metadata": {},
   "source": [
    "## Aborting motion\n",
    "\n",
    "Good practise is to always allow a user aborting motion execution. In this example, key 'q' will break the loop and call a home() (which is the same as moveTo(qHome, 1., True)"
   ]
  },
  {
   "cell_type": "code",
   "execution_count": 11,
   "id": "09468d0c",
   "metadata": {},
   "outputs": [
    {
     "name": "stdout",
     "output_type": "stream",
     "text": [
      "0\n",
      "1\n",
      "cancelled\n"
     ]
    }
   ],
   "source": [
    "for t in range(5):\n",
    "    print(t)\n",
    "    bot.moveTo(q1)\n",
    "    bot.wait(C) #same as 'loop sync til keypressed or endOfTime', but also raises user window\n",
    "    if bot.getKeyPressed()==ord('q'):\n",
    "        print(\"cancelled\")\n",
    "        break;\n",
    "        \n",
    "    bot.moveTo(q0)\n",
    "    bot.wait(C)\n",
    "    if bot.getKeyPressed()==ord('q'):\n",
    "        print(\"cancelled\")\n",
    "        break;\n",
    "\n",
    "bot.home(C)"
   ]
  },
  {
   "cell_type": "markdown",
   "id": "b867008d",
   "metadata": {},
   "source": [
    "## Gripper operation\n",
    "\n",
    "Gripper movements also do not block:"
   ]
  },
  {
   "cell_type": "code",
   "execution_count": 12,
   "id": "9b62c7c5",
   "metadata": {},
   "outputs": [],
   "source": [
    "bot.gripperMove(ry._left, width=.01, speed=.2)\n",
    "\n",
    "while not bot.gripperDone(ry._left):\n",
    "    bot.sync(C, .1)\n",
    "\n",
    "bot.gripperMove(ry._left, width=.075, speed=1)\n",
    "\n",
    "while not bot.gripperDone(ry._left):\n",
    "    bot.sync(C, .1)"
   ]
  },
  {
   "cell_type": "markdown",
   "id": "ba6ec6ff",
   "metadata": {},
   "source": [
    "## Camera & Point Could\n",
    "\n",
    "BotOp also interfaces basic grabbing of image and depth. In simulation model, the sensor name needs to be a frame name that has camera attributed defined. On the real robot, a realsense camera is directly grabbed."
   ]
  },
  {
   "cell_type": "code",
   "execution_count": 13,
   "id": "46440f63",
   "metadata": {},
   "outputs": [],
   "source": [
    "rgb, depth, points = bot.getImageDepthPcl('cameraWrist')"
   ]
  },
  {
   "cell_type": "code",
   "execution_count": 14,
   "id": "1bd73706-2f9b-4c4d-93bd-cdba581408b7",
   "metadata": {},
   "outputs": [
    {
     "data": {
      "image/png": "[encoded data removed]",
      "text/plain": [
       "<Figure size 1000x500 with 2 Axes>"
      ]
     },
     "metadata": {},
     "output_type": "display_data"
    }
   ],
   "source": [
    "import matplotlib.pyplot as plt\n",
    "\n",
    "fig = plt.figure(figsize=(10,5))\n",
    "axs = fig.subplots(1, 2)\n",
    "axs[0].imshow(rgb)\n",
    "axs[1].matshow(depth)\n",
    "plt.show()"
   ]
  },
  {
   "cell_type": "markdown",
   "id": "20815b9d",
   "metadata": {},
   "source": [
    "The returned `points` are a point could, that was directly computed from the depth image and the camera intrinsics. The intrinsics are given by the focal lengths (f_x, f_y) and image center (c_x, c_y). We can also manually compute the point cloud as follows:"
   ]
  },
  {
   "cell_type": "code",
   "execution_count": 15,
   "id": "426eb3b6",
   "metadata": {},
   "outputs": [
    {
     "data": {
      "text/plain": [
       "0.0"
      ]
     },
     "execution_count": 15,
     "metadata": {},
     "output_type": "execute_result"
    }
   ],
   "source": [
    "fxycxy = bot.getCameraFxycxy(\"cameraWrist\")\n",
    "points2 = ry.depthImage2PointCloud(depth, fxycxy)\n",
    "np.linalg.norm(points - points2)"
   ]
  },
  {
   "cell_type": "markdown",
   "id": "11859a65",
   "metadata": {},
   "source": [
    "The point cloud is given relative to the camera frame. We can display it by creating a dedicates frame, attached to the camera frame, and setting its (purely visual) shape to be the point cloud:"
   ]
  },
  {
   "cell_type": "code",
   "execution_count": 16,
   "id": "1a9d2d8a-07ae-4dc3-afa5-3c90ac7d2b8e",
   "metadata": {},
   "outputs": [
    {
     "data": {
      "text/plain": [
       "0"
      ]
     },
     "execution_count": 16,
     "metadata": {},
     "output_type": "execute_result"
    }
   ],
   "source": [
    "pclFrame = C.addFrame('pcl', 'cameraWrist')\n",
    "pclFrame.setPointCloud(points, rgb)\n",
    "pclFrame.setColor([1.,0.,0.]) #only to see it when overlaying with truth\n",
    "C.view()"
   ]
  },
  {
   "cell_type": "markdown",
   "id": "2dfbfcea",
   "metadata": {},
   "source": [
    "## Shutdown\n",
    "\n",
    "You always need to shut down processes (e.g. communication with the real robot) properly. That's done here by explicitly destroying the objects:"
   ]
  },
  {
   "cell_type": "code",
   "execution_count": 17,
   "id": "2ea154ed",
   "metadata": {},
   "outputs": [
    {
     "name": "stdout",
     "output_type": "stream",
     "text": [
      "-- bot.cpp:~BotOp:114(0) shutting down BotOp...\n",
      "-- simulation.cpp:~BotThreadedSim:56(0) shutting down SimThread\n",
      "-- simulation.cpp:~Simulation:148(0) shutting down Simulation\n"
     ]
    }
   ],
   "source": [
    "del bot\n",
    "del C"
   ]
  },
  {
   "cell_type": "markdown",
   "id": "ac37869b",
   "metadata": {},
   "source": [
    "## Parameters\n",
    "\n",
    "BotOp (and other parts of the rai code) use all kinds of internal parameters that can be configured. The best way to look which parameters actually are used/relevant is to retrospect print the list of parameters have been queried by the code so far. That gives an idea of which global parameters exist:"
   ]
  },
  {
   "cell_type": "code",
   "execution_count": 19,
   "id": "bb4031b4",
   "metadata": {},
   "outputs": [
    {
     "name": "stdout",
     "output_type": "stream",
     "text": [
      "-- ry.cpp:operator():86(0) python,\n",
      "message: \"this parameter was loaded from 'rai.cfg'\",\n",
      "bot/useGripper,\n",
      "bot/useRobotiq!,\n",
      "bot/useArm: left,\n",
      "bot/blockRealRobot!,\n",
      "botsim/hyperSpeed: 1,\n",
      "botsim/verbose: 1,\n",
      "botsim/engine: physx,\n",
      "physx/verbose: 1,\n",
      "physx/yGravity!,\n",
      "physx/softBody!,\n",
      "physx/multiBody,\n",
      "physx/multiBodyDisableGravity,\n",
      "physx/jointedBodies!,\n",
      "physx/angularDamping: 0.1,\n",
      "physx/defaultFriction: 1,\n",
      "physx/defaultRestitution: 0.1,\n",
      "physx/motorKp: 1000,\n",
      "physx/motorKd: 100,\n",
      "bot/useOptitrack!,\n",
      "bot/useAudio!,\n",
      "bot/raiseWindow!,\n",
      "KOMO/verbose: 1,\n",
      "KOMO/animateOptimization: 0,\n",
      "KOMO/mimicStable,\n",
      "KOMO/useFCL,\n",
      "KOMO/unscaleEqIneqReport!,\n",
      "KOMO/sampleRate_stable: 0,\n",
      "opt/verbose: 1,\n",
      "opt/stopTolerance: 0.01,\n",
      "opt/stopFTolerance: -1,\n",
      "opt/stopGTolerance: -1,\n",
      "opt/stopEvals: 1000,\n",
      "opt/stopIters: 1000,\n",
      "opt/stopOuters: 1000,\n",
      "opt/stopLineSteps: 10,\n",
      "opt/stopTinySteps: 10,\n",
      "opt/initStep: 1,\n",
      "opt/minStep: -1,\n",
      "opt/maxStep: 0.2,\n",
      "opt/damping: 1,\n",
      "opt/stepInc: 1.5,\n",
      "opt/stepDec: 0.5,\n",
      "opt/wolfe: 0.01,\n",
      "opt/boundedNewton,\n",
      "opt/muInit: 1,\n",
      "opt/muInc: 5,\n",
      "opt/muMax: 10000,\n",
      "opt/muLBInit: 0.1,\n",
      "opt/muLBDec: 0.2,\n",
      "opt/maxLambda: -1,\n",
      "opt/constrainedMethod: ,\n",
      "seed: 0\n"
     ]
    }
   ],
   "source": [
    "ry.params_print()"
   ]
  },
  {
   "cell_type": "markdown",
   "id": "8d6cb087",
   "metadata": {},
   "source": [
    "That might tell you a lot about what happend internally.\n",
    "\n",
    "In the context of BotOp, the parameter `botsim/engine` can also be set to `kin`, which would create a simulation without physics where merely the robot moves (and grasped object can be attached/detached). The `botsim/verbose` above leads to the explicit verbosity when creating the simulator interface.\n",
    "\n",
    "Parameters can be set in a local file `rai.cfg`, or manually in python  with the following calls -- but that need's to be done BEFORE BotOp is created."
   ]
  },
  {
   "cell_type": "code",
   "execution_count": 20,
   "id": "84c417c1",
   "metadata": {},
   "outputs": [],
   "source": [
    "ry.params_add({'botsim/verbose': 2., 'physx/motorKp': 10000., 'physx/motorKd': 1000.})\n",
    "ry.params_add({'botsim/engine': 'physx'}) #makes a big difference!\n",
    "ry.params_add({'physx/multibody': True}) #makes a big difference!"
   ]
  },
  {
   "cell_type": "code",
   "execution_count": null,
   "id": "e172dbbf",
   "metadata": {},
   "outputs": [],
   "source": []
  }
 ],
 "metadata": {
  "kernelspec": {
   "display_name": "Python 3 (ipykernel)",
   "language": "python",
   "name": "python3"
  },
  "language_info": {
   "codemirror_mode": {
    "name": "ipython",
    "version": 3
   },
   "file_extension": ".py",
   "mimetype": "text/x-python",
   "name": "python",
   "nbconvert_exporter": "python",
   "pygments_lexer": "ipython3",
   "version": "3.8.10"
  }
 },
 "nbformat": 4,
 "nbformat_minor": 5
}

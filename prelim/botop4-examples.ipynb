{
 "cells": [
  {
   "cell_type": "markdown",
   "id": "0f4af228",
   "metadata": {},
   "source": [
    "# Example for grasping in Sim\n",
    "* A grasp motion is designed using KOMO, where the 2-waypoint IK problem defines constraints over a sequence of two configurations, one for each waypoint.\n",
    "* Each waypoint is here quite rigidly constrained by 6D endeff pose. For convenience, both endeff poses have been defined as 'marker' frames in the configuration. This is a common pattern: Define some convenient reference frames in the configuration, then define NLP constraints relative to these.\n",
    "* The solver returns a sequence of two joint positions.\n",
    "* Both are added to the BotOp spline pipeline (with hard timings 2 and 3 sec for them). They define a spline transitioning smoothly through both waypoints.\n",
    "* The gripper is closed. (In simulation, a hard kinematic link is created!)\n",
    "* After homing, the gripper is opened. (In simulation, the hard kinematic link is broken again; the object falls.)"
   ]
  },
  {
   "cell_type": "code",
   "execution_count": 1,
   "id": "97088a7b",
   "metadata": {},
   "outputs": [],
   "source": [
    "import robotic as ry\n",
    "import numpy as np\n",
    "import time"
   ]
  },
  {
   "cell_type": "code",
   "execution_count": 2,
   "id": "ea930fba",
   "metadata": {},
   "outputs": [
    {
     "name": "stdout",
     "output_type": "stream",
     "text": [
      "-- module.cpp:operator():95(0) python,\n",
      "physx/motorKp: 10000,\n",
      "physx/motorKd: 1000,\n",
      "physx/angularDamping: 10,\n",
      "physx/defaultFriction: 100\n"
     ]
    }
   ],
   "source": [
    "ry.params_add({'physx/motorKp': 10000., 'physx/motorKd': 1000., 'physx/angularDamping': 10., 'physx/defaultFriction': 100.})\n",
    "ry.params_print()"
   ]
  },
  {
   "cell_type": "code",
   "execution_count": 3,
   "id": "44db23a8",
   "metadata": {},
   "outputs": [
    {
     "data": {
      "text/plain": [
       "0"
      ]
     },
     "execution_count": 3,
     "metadata": {},
     "output_type": "execute_result"
    }
   ],
   "source": [
    "C = ry.Config()\n",
    "C.addFile(ry.raiPath('../rai-robotModels/scenarios/pandaSingle.g'))\n",
    "C.view(False)"
   ]
  },
  {
   "cell_type": "code",
   "execution_count": 4,
   "id": "efd02145",
   "metadata": {},
   "outputs": [
    {
     "data": {
      "text/plain": [
       "37"
      ]
     },
     "execution_count": 4,
     "metadata": {},
     "output_type": "execute_result"
    }
   ],
   "source": [
    "#   .setShape(ry.ST.sphere, size=[.025]) \\\n",
    "C.addFrame('box') \\\n",
    "    .setPosition([-.25,.1,.675]) \\\n",
    "    .setShape(ry.ST.ssBox, size=[.05,.05,.05,.005]) \\\n",
    "    .setColor([1,.5,0]) \\\n",
    "    .setMass(.1) \\\n",
    "    .setContact(True)\n",
    "C.view()"
   ]
  },
  {
   "cell_type": "code",
   "execution_count": 5,
   "id": "9588750e",
   "metadata": {},
   "outputs": [],
   "source": [
    "# WAYPOINT ENGINEERING:\n",
    "# manually define frames as an endeff waypoints, relative to box:\n",
    "way0 = C.addFrame('way0', 'box')\n",
    "way1 = C.addFrame('way1', 'box')"
   ]
  },
  {
   "cell_type": "code",
   "execution_count": 6,
   "id": "8f6639cc",
   "metadata": {},
   "outputs": [
    {
     "data": {
      "text/plain": [
       "37"
      ]
     },
     "execution_count": 6,
     "metadata": {},
     "output_type": "execute_result"
    }
   ],
   "source": [
    "way0.setShape(ry.ST.marker, size=[.1])\n",
    "way0.setRelativePose('t(0 0 .1) d(90 0 0 1)')\n",
    "\n",
    "way1.setShape(ry.ST.marker, size=[.1])\n",
    "way1.setRelativePose('d(90 0 0 1)')\n",
    "\n",
    "C.view()"
   ]
  },
  {
   "cell_type": "code",
   "execution_count": 7,
   "id": "8b4b9f76",
   "metadata": {},
   "outputs": [],
   "source": [
    "# define a 2 waypoint problem in KOMO\n",
    "komo = ry.KOMO()\n",
    "komo.setConfig(C, True)\n",
    "komo.setTiming(2., 1, 5., 0)\n",
    "komo.addControlObjective([], 0, 1e-0)\n",
    "komo.addObjective([], ry.FS.accumulatedCollisions, [], ry.OT.eq);\n",
    "komo.addObjective([], ry.FS.jointLimits, [], ry.OT.ineq);\n",
    "komo.addObjective([1.], ry.FS.poseDiff, ['l_gripper', 'way0'], ry.OT.eq, [1e1]);\n",
    "komo.addObjective([2.], ry.FS.poseDiff, ['l_gripper', 'way1'], ry.OT.eq, [1e1]);"
   ]
  },
  {
   "cell_type": "code",
   "execution_count": 8,
   "id": "c918d324",
   "metadata": {},
   "outputs": [
    {
     "name": "stdout",
     "output_type": "stream",
     "text": [
      "====nlp==== method:AugmentedLagrangian bounded: yes\n",
      "==nlp== it:0 evals:0 mu:1 nu:1 muLB:0.1\n",
      "----newton---- initial point f(x):93.1593 alpha:1 beta:1\n",
      "--newton-- it:   1  |Delta|:        0.2  alpha:          1  evals:   2  f(y):    69.6169  ACCEPT\n",
      "--newton-- it:   2  |Delta|:        0.2  alpha:          1  evals:   3  f(y):    47.7566  ACCEPT\n",
      "--newton-- it:   3  |Delta|:        0.2  alpha:          1  evals:   4  f(y):    28.1096  ACCEPT\n",
      "--newton-- it:   4  |Delta|:        0.2  alpha:          1  evals:   5  f(y):    11.4588  ACCEPT\n",
      "--newton-- it:   5  |Delta|:        0.2  alpha:          1  evals:   6  f(y):    6.02281  ACCEPT\n",
      "--newton-- it:   6  |Delta|:        0.2  alpha:          1  evals:   7  f(y):     4.0943  ACCEPT\n",
      "--newton-- it:   7  |Delta|:   0.170104  alpha:          1  evals:   8  f(y):    3.57494  ACCEPT\n",
      "--newton-- it:   8  |Delta|:  0.0579509  alpha:          1  evals:   9  f(y):    3.52862  ACCEPT\n",
      "--newton-- it:   9  |Delta|:  0.0238862  alpha:          1  evals:  10  f(y):    3.52229  ACCEPT\n",
      "--newton-- stopping: 'absMax(Delta)<options.stopTolerance'\n",
      "==nlp== it:   0  evals:  10  A(x):    3.52229  f:    2.94215  g:          0  h:    2.24621  |x-x'|:   0.750159 \tstop:DeltaConverge\n",
      "==nlp== it:   1  evals:  10  A(x):    7.00314  mu:5\n",
      "--newton-- it:  10  |Delta|:        0.2  alpha:          1  evals:  11  f(y):     4.5031  ACCEPT\n",
      "--newton-- it:  11  |Delta|:    0.10763  alpha:          1  evals:  12  f(y):    4.34517  ACCEPT\n",
      "--newton-- it:  12  |Delta|:  0.0250782  alpha:          1  evals:  13  f(y):    4.33636  ACCEPT\n",
      "--newton-- it:  13  |Delta|:  0.0132002  alpha:          1  evals:  14  f(y):    4.33499  ACCEPT\n",
      "--newton-- it:  14  |Delta|: 0.00671968  alpha:          1  evals:  15  f(y):    4.33466  ACCEPT\n",
      "--newton-- stopping: 'absMax(Delta)<options.stopTolerance'\n",
      "==nlp== it:   1  evals:  15  A(x):    4.33466  f:    4.20159  g:          0  h:   0.210882  |x-x'|:   0.219163 \tstop:DeltaConverge\n",
      "==nlp== it:   2  evals:  15  A(x):    4.53266  mu:25\n",
      "--newton-- it:  15  |Delta|:  0.0377038  alpha:          1  evals:  16  f(y):    4.37469  ACCEPT\n",
      "--newton-- it:  16  |Delta|:  0.0082472  alpha:          1  evals:  17  f(y):    4.37395  ACCEPT\n",
      "--newton-- stopping: 'absMax(Delta)<options.stopTolerance'\n",
      "==nlp== it:   2  evals:  17  A(x):    4.37395  f:    4.36729  g:          0  h: 0.00768609  |x-x'|:  0.0459216 \tstop:DeltaConverge\n",
      "==nlp== it:   3  evals:  17  A(x):    4.37595  mu:125\n",
      "--newton-- it:  17  |Delta|: 0.00476196  alpha:          1  evals:  18  f(y):     4.3742  ACCEPT\n",
      "--newton-- stopping: 'absMax(Delta)<options.stopTolerance'\n",
      "==nlp== it:   3  evals:  18  A(x):     4.3742  f:    4.37426  g:          0  h:0.000146417  |x-x'|: 0.00476196 \tstop:DeltaConverge\n",
      "==nlp== StoppingCriterion Delta<0.01\n",
      "----newton---- final f(x):4.3742\n",
      "{ time: 0.010372, evals: 18, done: 1, feasible: 1, sos: 4.37426, f: 0, ineq: 0, eq: 0.000146417 }\n"
     ]
    }
   ],
   "source": [
    "ret = ry.NLP_Solver() \\\n",
    "    .setProblem(komo.nlp()) \\\n",
    "    .setOptions( stopTolerance=1e-2, verbose=4 ) \\\n",
    "    .solve()\n",
    "print(ret)"
   ]
  },
  {
   "cell_type": "code",
   "execution_count": 9,
   "id": "cbd1ce1f",
   "metadata": {},
   "outputs": [
    {
     "data": {
      "text/plain": [
       "0"
      ]
     },
     "execution_count": 9,
     "metadata": {},
     "output_type": "execute_result"
    }
   ],
   "source": [
    "komo.view(False, \"waypoints solution\")"
   ]
  },
  {
   "cell_type": "code",
   "execution_count": 10,
   "id": "cac1ad27",
   "metadata": {},
   "outputs": [],
   "source": [
    "komo.view_close()\n",
    "path = komo.getPath()"
   ]
  },
  {
   "cell_type": "code",
   "execution_count": 11,
   "id": "e00a421c",
   "metadata": {},
   "outputs": [],
   "source": [
    "bot = ry.BotOp(C, False)\n",
    "bot.home(C)"
   ]
  },
  {
   "cell_type": "code",
   "execution_count": 12,
   "id": "86f9f8c2",
   "metadata": {},
   "outputs": [],
   "source": [
    "bot.home(C)"
   ]
  },
  {
   "cell_type": "code",
   "execution_count": 14,
   "id": "00a01c01",
   "metadata": {},
   "outputs": [],
   "source": [
    "bot.gripperMove(ry._left)\n",
    "while not bot.gripperDone(ry._left):\n",
    "    bot.sync(C, .1)"
   ]
  },
  {
   "cell_type": "code",
   "execution_count": 15,
   "id": "6a4303a4",
   "metadata": {},
   "outputs": [],
   "source": [
    "bot.move(path, [2., 3.])\n",
    "while bot.getTimeToEnd()>0:\n",
    "    bot.sync(C, .1)"
   ]
  },
  {
   "cell_type": "code",
   "execution_count": 16,
   "id": "f7e3a9d9",
   "metadata": {},
   "outputs": [
    {
     "name": "stdout",
     "output_type": "stream",
     "text": [
      "-- kin_physx.cpp:addJoint:299(0) ADDING JOINT l_panda_joint7-box of type rigid with rel [0, 0, 0]\n"
     ]
    }
   ],
   "source": [
    "bot.gripperCloseGrasp(ry._left, 'box')\n",
    "while not bot.gripperDone(ry._left):\n",
    "    bot.sync(C, .1)"
   ]
  },
  {
   "cell_type": "code",
   "execution_count": 17,
   "id": "ddad80d8",
   "metadata": {},
   "outputs": [],
   "source": [
    "bot.home(C)"
   ]
  },
  {
   "cell_type": "code",
   "execution_count": 19,
   "id": "e219ea7d",
   "metadata": {},
   "outputs": [
    {
     "name": "stdout",
     "output_type": "stream",
     "text": [
      "-- kin_physx.cpp:removeJoint:893(0) REMOVING JOINT 0x3dacab0-0x3daf8d0 of type rigid\n"
     ]
    }
   ],
   "source": [
    "bot.gripperMove(ry._left)\n",
    "while not bot.gripperDone(ry._left):\n",
    "    bot.sync(C, .1)"
   ]
  },
  {
   "cell_type": "code",
   "execution_count": 20,
   "id": "c665847d",
   "metadata": {},
   "outputs": [
    {
     "name": "stdout",
     "output_type": "stream",
     "text": [
      "-- bot.cpp:~BotOp:118(0) shutting down BotOp...\n",
      "-- simulation.cpp:~BotThreadedSim:56(0) shutting down SimThread\n",
      "-- simulation.cpp:~Simulation:149(0) shutting down Simulation\n"
     ]
    }
   ],
   "source": [
    "del bot"
   ]
  },
  {
   "cell_type": "code",
   "execution_count": 21,
   "id": "ecc1c120",
   "metadata": {},
   "outputs": [],
   "source": [
    "del C"
   ]
  },
  {
   "cell_type": "markdown",
   "id": "6b6de9d6",
   "metadata": {},
   "source": [
    "## Example for pushing in sim\n",
    "* A push motion is designed using KOMO, there the 2-waypoint IK problem defines constraints over a sequence of two configurations, one for each waypoint.\n",
    "* Each waypoint is here quite rigidly constrained by 6D endeff pose. For convenience, both endeff poses have been defined as 'marker' frames in the configuration. This is a common pattern: Define some convenient reference frames in the configuration, then define NLP constraints relative to these.\n",
    "* The solver returns a sequence of two joint positions.\n",
    "* Both are added to the BotOp spline pipeline. They define a linear spline interpolation with zero end velocity for both waypoints."
   ]
  },
  {
   "cell_type": "code",
   "execution_count": 22,
   "id": "765fa2ab",
   "metadata": {},
   "outputs": [],
   "source": [
    "import robotic as ry\n",
    "import numpy as np\n",
    "import time"
   ]
  },
  {
   "cell_type": "code",
   "execution_count": 23,
   "id": "c896e109",
   "metadata": {},
   "outputs": [
    {
     "name": "stdout",
     "output_type": "stream",
     "text": [
      "ry version 0.1.3 compile time: Jan  4 2024 14:52:25\n",
      "-- module.cpp:operator():95(0) python,\n",
      "physx/motorKp: 10000,\n",
      "physx/motorKd: 1000,\n",
      "physx/angularDamping: 10,\n",
      "physx/defaultFriction: 100,\n",
      "KOMO/verbose: 1,\n",
      "KOMO/animateOptimization: 0,\n",
      "KOMO/mimicStable,\n",
      "KOMO/useFCL,\n",
      "KOMO/unscaleEqIneqReport!,\n",
      "KOMO/sampleRate_stable: 0,\n",
      "opt/verbose: 1,\n",
      "opt/stopTolerance: 0.01,\n",
      "opt/stopFTolerance: -1,\n",
      "opt/stopGTolerance: -1,\n",
      "opt/stopEvals: 1000,\n",
      "opt/stopIters: 1000,\n",
      "opt/stopOuters: 1000,\n",
      "opt/stopLineSteps: 10,\n",
      "opt/stopTinySteps: 10,\n",
      "opt/initStep: 1,\n",
      "opt/minStep: -1,\n",
      "opt/maxStep: 0.2,\n",
      "opt/damping: 1,\n",
      "opt/stepInc: 1.5,\n",
      "opt/stepDec: 0.5,\n",
      "opt/wolfe: 0.01,\n",
      "opt/boundedNewton,\n",
      "opt/muInit: 1,\n",
      "opt/muInc: 5,\n",
      "opt/muMax: 10000,\n",
      "opt/muLBInit: 0.1,\n",
      "opt/muLBDec: 0.2,\n",
      "opt/maxLambda: -1,\n",
      "opt/constrainedMethod: ,\n",
      "seed: 0,\n",
      "bot/useGripper,\n",
      "bot/useRobotiq!,\n",
      "bot/useArm: left,\n",
      "bot/blockRealRobot!,\n",
      "botsim/hyperSpeed: 1,\n",
      "botsim/verbose: 1,\n",
      "botsim/engine: physx,\n",
      "physx/verbose: 1,\n",
      "physx/yGravity!,\n",
      "physx/softBody!,\n",
      "physx/multiBody,\n",
      "physx/multiBodyDisableGravity,\n",
      "physx/jointedBodies!,\n",
      "physx/defaultRestitution: 0.1,\n",
      "bot/useOptitrack!,\n",
      "bot/useAudio!,\n",
      "bot/raiseWindow!,\n",
      "physx/motorKp: 10000,\n",
      "physx/motorKd: 1000\n"
     ]
    }
   ],
   "source": [
    "print('ry version', ry.__version__, ry.compiled())\n",
    "ry.params_add({'physx/motorKp': 10000., 'physx/motorKd': 1000.})\n",
    "ry.params_print()"
   ]
  },
  {
   "cell_type": "code",
   "execution_count": 24,
   "id": "4be73380",
   "metadata": {},
   "outputs": [
    {
     "data": {
      "text/plain": [
       "0"
      ]
     },
     "execution_count": 24,
     "metadata": {},
     "output_type": "execute_result"
    }
   ],
   "source": [
    "C = ry.Config()\n",
    "C.addFile(ry.raiPath('../rai-robotModels/scenarios/pandaSingle.g'))\n",
    "C.view(False)"
   ]
  },
  {
   "cell_type": "code",
   "execution_count": 25,
   "id": "65f34495",
   "metadata": {},
   "outputs": [
    {
     "data": {
      "text/plain": [
       "37"
      ]
     },
     "execution_count": 25,
     "metadata": {},
     "output_type": "execute_result"
    }
   ],
   "source": [
    "C.addFrame('box') \\\n",
    "    .setPosition([-.25,.1,.675]) \\\n",
    "    .setShape(ry.ST.ssBox, size=[.05,.05,.05,.005]) \\\n",
    "    .setColor([1,.5,0]) \\\n",
    "    .setMass(.1) \\\n",
    "    .setContact(True)\n",
    "C.view()"
   ]
  },
  {
   "cell_type": "code",
   "execution_count": 26,
   "id": "74fceeef",
   "metadata": {},
   "outputs": [],
   "source": [
    "# WAYPOINT ENGINEERING:\n",
    "# manually define frames as an endeff waypoints, relative to box:\n",
    "way0 = C.addFrame('way0', 'box')\n",
    "way1 = C.addFrame('way1', 'box')"
   ]
  },
  {
   "cell_type": "code",
   "execution_count": 27,
   "id": "aab75e2e",
   "metadata": {},
   "outputs": [
    {
     "data": {
      "text/plain": [
       "37"
      ]
     },
     "execution_count": 27,
     "metadata": {},
     "output_type": "execute_result"
    }
   ],
   "source": [
    "way0.setShape(ry.ST.marker, size=[.1])\n",
    "way0.setRelativePose('t(-.07 0 0) d(90 0 0 1)')\n",
    "\n",
    "way1.setShape(ry.ST.marker, size=[.1])\n",
    "way1.setRelativePose('t(.2 0 0) d(90 0 0 1)')\n",
    "\n",
    "C.view()"
   ]
  },
  {
   "cell_type": "code",
   "execution_count": 28,
   "id": "64db9873",
   "metadata": {},
   "outputs": [],
   "source": [
    "# define a 2 waypoint problem in KOMO\n",
    "komo = ry.KOMO()\n",
    "komo.setConfig(C, True)\n",
    "komo.setTiming(2., 1, 5., 0)\n",
    "komo.addControlObjective([], 0, 1e-0)\n",
    "komo.addObjective([], ry.FS.accumulatedCollisions, [], ry.OT.eq);\n",
    "komo.addObjective([], ry.FS.jointLimits, [], ry.OT.ineq);\n",
    "komo.addObjective([1.], ry.FS.poseDiff, ['l_gripper', 'way0'], ry.OT.eq, [1e1]);\n",
    "komo.addObjective([2.], ry.FS.poseDiff, ['l_gripper', 'way1'], ry.OT.eq, [1e1]);"
   ]
  },
  {
   "cell_type": "code",
   "execution_count": 29,
   "id": "2b0516c0",
   "metadata": {},
   "outputs": [
    {
     "name": "stdout",
     "output_type": "stream",
     "text": [
      "====nlp==== method:AugmentedLagrangian bounded: yes\n",
      "==nlp== it:0 evals:0 mu:1 nu:1 muLB:0.1\n",
      "----newton---- initial point f(x):100.73 alpha:1 beta:1\n",
      "--newton-- it:   1  |Delta|:        0.2  alpha:          1  evals:   2  f(y):    75.7925  ACCEPT\n",
      "--newton-- it:   2  |Delta|:        0.2  alpha:          1  evals:   3  f(y):    52.4662  ACCEPT\n",
      "--newton-- it:   3  |Delta|:        0.2  alpha:          1  evals:   4  f(y):    32.3419  ACCEPT\n",
      "--newton-- it:   4  |Delta|:        0.2  alpha:          1  evals:   5  f(y):    16.2655  ACCEPT\n",
      "--newton-- it:   5  |Delta|:        0.2  alpha:          1  evals:   6  f(y):    8.49704  ACCEPT\n",
      "--newton-- it:   6  |Delta|:        0.2  alpha:          1  evals:   7  f(y):    5.68357  ACCEPT\n",
      "--newton-- it:   7  |Delta|:        0.2  alpha:          1  evals:   8  f(y):    4.63148  ACCEPT\n",
      "--newton-- it:   8  |Delta|:   0.102645  alpha:          1  evals:   9  f(y):    4.43879  ACCEPT\n",
      "--newton-- it:   9  |Delta|:  0.0489478  alpha:          1  evals:  10  f(y):    4.40721  ACCEPT\n",
      "--newton-- it:  10  |Delta|:  0.0215572  alpha:          1  evals:  11  f(y):    4.40253  ACCEPT\n",
      "--newton-- stopping: 'absMax(Delta)<options.stopTolerance'\n",
      "==nlp== it:   0  evals:  11  A(x):    4.40253  f:    3.60605  g:          0  h:    2.63668  |x-x'|:   0.881368 \tstop:DeltaConverge\n",
      "==nlp== it:   1  evals:  11  A(x):    9.18141  mu:5\n",
      "--newton-- it:  11  |Delta|:        0.2  alpha:          1  evals:  12  f(y):    6.04463  ACCEPT\n",
      "--newton-- it:  12  |Delta|:  0.0975146  alpha:          1  evals:  13  f(y):    5.79317  ACCEPT\n",
      "--newton-- it:  13  |Delta|:  0.0287393  alpha:          1  evals:  14  f(y):      5.784  ACCEPT\n",
      "--newton-- it:  14  |Delta|:  0.0150565  alpha:          1  evals:  15  f(y):    5.78275  ACCEPT\n",
      "--newton-- it:  15  |Delta|:  0.0150863  alpha:          1  evals:  16  f(y):     5.7825  ACCEPT\n",
      "--newton-- it:  16  |Delta|:  0.0151007  alpha:          1  evals:  17  f(y):    5.78245  ACCEPT\n",
      "--newton-- it:  17  |Delta|:  0.0151067  alpha:          1  evals:  18  f(y):    5.78244  ACCEPT\n",
      "--newton-- it:  18  |Delta|:  0.0151094  alpha:          1  evals:  19  f(y):    5.78244  ACCEPT\n",
      "--newton-- it:  19  |Delta|:  0.0151107  alpha:          1  evals:  20  f(y):    5.78244  ACCEPT\n",
      "--newton-- it:  20  |Delta|:  0.0151113  alpha:          1  evals:  21  f(y):    5.78244  ACCEPT\n",
      "--newton-- it:  21  |Delta|:  0.0151115  alpha:          1  evals:  22  f(y):    5.78244  ACCEPT\n",
      "--newton-- it:  22  |Delta|:  0.0151117  alpha:          1  evals:  23  f(y):    5.78244  ACCEPT\n",
      "--newton-- it:  23  |Delta|:  0.0151117  alpha:          1  evals:  24  f(y):    5.78244  ACCEPT\n",
      "--newton-- it:  24  |Delta|:  0.0151117  alpha:          1  evals:  25  f(y):    5.78244  ACCEPT\n",
      "--newton-- it:  25  |Delta|:  0.0151117  alpha:          1  evals:  26  f(y):    5.78244  ACCEPT\n",
      "--newton-- stopping: 'numTinyXSteps>4'\n",
      "==nlp== it:   1  evals:  26  A(x):    5.78244  f:    4.96983  g:          0  h:   0.669137  |x-x'|:   0.218672 \tstop:TinyXSteps (bad:1)\n",
      "==nlp== it:   2  evals:  26  A(x):     8.1873  mu:25\n",
      "--newton-- it:  26  |Delta|:  0.0319177  alpha:          1  evals:  27  f(y):    8.08108  ACCEPT\n",
      "--newton-- it:  27  |Delta|:  0.0201257  alpha:          1  evals:  28  f(y):    8.07852  ACCEPT\n",
      "--newton-- it:  28  |Delta|:  0.0201603  alpha:          1  evals:  29  f(y):    8.07704  ACCEPT\n",
      "--newton-- it:  29  |Delta|:   0.020221  alpha:          1  evals:  30  f(y):    8.07607  ACCEPT\n",
      "--newton-- it:  30  |Delta|:  0.0202735  alpha:          1  evals:  31  f(y):    8.07541  ACCEPT\n",
      "--newton-- it:  31  |Delta|:  0.0203182  alpha:          1  evals:  32  f(y):    8.07494  ACCEPT\n",
      "--newton-- it:  32  |Delta|:  0.0203564  alpha:          1  evals:  33  f(y):     8.0746  ACCEPT\n",
      "--newton-- it:  33  |Delta|:  0.0203893  alpha:          1  evals:  34  f(y):    8.07435  ACCEPT\n",
      "--newton-- it:  34  |Delta|:  0.0204179  alpha:          1  evals:  35  f(y):    8.07416  ACCEPT\n",
      "--newton-- it:  35  |Delta|:  0.0204428  alpha:          1  evals:  36  f(y):    8.07401  ACCEPT\n",
      "--newton-- it:  36  |Delta|:  0.0204649  alpha:          1  evals:  37  f(y):     8.0739  ACCEPT\n",
      "--newton-- it:  37  |Delta|:  0.0204844  alpha:          1  evals:  38  f(y):     8.0738  ACCEPT\n",
      "--newton-- it:  38  |Delta|:  0.0205018  alpha:          1  evals:  39  f(y):    8.07373  ACCEPT\n",
      "--newton-- it:  39  |Delta|:  0.0205174  alpha:          1  evals:  40  f(y):    8.07367  ACCEPT\n",
      "--newton-- it:  40  |Delta|:  0.0205315  alpha:          1  evals:  41  f(y):    8.07362  ACCEPT\n",
      "--newton-- it:  41  |Delta|:  0.0205443  alpha:          1  evals:  42  f(y):    8.07358  ACCEPT\n",
      "--newton-- it:  42  |Delta|:  0.0205559  alpha:          1  evals:  43  f(y):    8.07355  ACCEPT\n",
      "--newton-- it:  43  |Delta|:  0.0205666  alpha:          1  evals:  44  f(y):    8.07352  ACCEPT\n",
      "--newton-- it:  44  |Delta|:  0.0205763  alpha:          1  evals:  45  f(y):    8.07349  ACCEPT\n",
      "--newton-- it:  45  |Delta|:  0.0205853  alpha:          1  evals:  46  f(y):    8.07347  ACCEPT\n",
      "--newton-- it:  46  |Delta|:  0.0205936  alpha:          1  evals:  47  f(y):    8.07346  ACCEPT\n",
      "--newton-- it:  47  |Delta|:  0.0206013  alpha:          1  evals:  48  f(y):    8.07344  ACCEPT\n",
      "--newton-- it:  48  |Delta|:  0.0206084  alpha:          1  evals:  49  f(y):    8.07343  ACCEPT\n",
      "--newton-- it:  49  |Delta|:  0.0206151  alpha:          1  evals:  50  f(y):    8.07341  ACCEPT\n",
      "--newton-- it:  50  |Delta|:  0.0206213  alpha:          1  evals:  51  f(y):     8.0734  ACCEPT\n",
      "--newton-- it:  51  |Delta|:  0.0206271  alpha:          1  evals:  52  f(y):     8.0734  ACCEPT\n",
      "--newton-- it:  52  |Delta|:  0.0206325  alpha:          1  evals:  53  f(y):    8.07339  ACCEPT\n",
      "--newton-- it:  53  |Delta|:  0.0206377  alpha:          1  evals:  54  f(y):    8.07338  ACCEPT\n",
      "--newton-- it:  54  |Delta|:  0.0206425  alpha:          1  evals:  55  f(y):    8.07337  ACCEPT\n",
      "--newton-- it:  55  |Delta|:   0.020647  alpha:          1  evals:  56  f(y):    8.07337  ACCEPT\n",
      "--newton-- it:  56  |Delta|:  0.0206513  alpha:          1  evals:{ time: 0.114873, evals: 144, done: 1, feasible: 1, sos: 7.73421, f: 0, ineq: 0, eq: 0.0406632 }\n",
      "  57  f(y):    8.07336  ACCEPT\n",
      "--newton-- it:  57  |Delta|:  0.0206554  alpha:          1  evals:  58  f(y):    8.07336  ACCEPT\n",
      "--newton-- it:  58  |Delta|:  0.0206592  alpha:          1  evals:  59  f(y):    8.07335  ACCEPT\n",
      "--newton-- it:  59  |Delta|:  0.0206628  alpha:          1  evals:  60  f(y):    8.07335  ACCEPT\n",
      "--newton-- it:  60  |Delta|:  0.0206663  alpha:          1  evals:  61  f(y):    8.07335  ACCEPT\n",
      "--newton-- it:  61  |Delta|:  0.0206696  alpha:          1  evals:  62  f(y):    8.07334  ACCEPT\n",
      "--newton-- it:  62  |Delta|:  0.0206728  alpha:          1  evals:  63  f(y):    8.07334  ACCEPT\n",
      "--newton-- it:  63  |Delta|:  0.0206758  alpha:          1  evals:  64  f(y):    8.07334  ACCEPT\n",
      "--newton-- it:  64  |Delta|:  0.0206786  alpha:          1  evals:  65  f(y):    8.07334  ACCEPT\n",
      "--newton-- it:  65  |Delta|:  0.0206814  alpha:          1  evals:  66  f(y):    8.07333  ACCEPT\n",
      "--newton-- it:  66  |Delta|:   0.020684  alpha:          1  evals:  67  f(y):    8.07333  ACCEPT\n",
      "--newton-- it:  67  |Delta|:  0.0206865  alpha:          1  evals:  68  f(y):    8.07333  ACCEPT\n",
      "--newton-- it:  68  |Delta|:  0.0206889  alpha:          1  evals:  69  f(y):    8.07333  ACCEPT\n",
      "--newton-- it:  69  |Delta|:  0.0206912  alpha:          1  evals:  70  f(y):    8.07333  ACCEPT\n",
      "--newton-- it:  70  |Delta|:  0.0206934  alpha:          1  evals:  71  f(y):    8.07333  ACCEPT\n",
      "--newton-- it:  71  |Delta|:  0.0206955  alpha:          1  evals:  72  f(y):    8.07332  ACCEPT\n",
      "--newton-- it:  72  |Delta|:  0.0206976  alpha:          1  evals:  73  f(y):    8.07332  ACCEPT\n",
      "--newton-- it:  73  |Delta|:  0.0206996  alpha:          1  evals:  74  f(y):    8.07332  ACCEPT\n",
      "--newton-- it:  74  |Delta|:  0.0207015  alpha:          1  evals:  75  f(y):    8.07332  ACCEPT\n",
      "--newton-- it:  75  |Delta|:  0.0207033  alpha:          1  evals:  76  f(y):    8.07332  ACCEPT\n",
      "--newton-- it:  76  |Delta|:  0.0207051  alpha:          1  evals:  77  f(y):    8.07332  ACCEPT\n",
      "--newton-- it:  77  |Delta|:  0.0207068  alpha:          1  evals:  78  f(y):    8.07332  ACCEPT\n",
      "--newton-- it:  78  |Delta|:  0.0207084  alpha:          1  evals:  79  f(y):    8.07332  ACCEPT\n",
      "--newton-- it:  79  |Delta|:    0.02071  alpha:          1  evals:  80  f(y):    8.07332  ACCEPT\n",
      "--newton-- it:  80  |Delta|:  0.0207116  alpha:          1  evals:  81  f(y):    8.07332  ACCEPT\n",
      "--newton-- it:  81  |Delta|:   0.020713  alpha:          1  evals:  82  f(y):    8.07332  ACCEPT\n",
      "--newton-- it:  82  |Delta|:  0.0207145  alpha:          1  evals:  83  f(y):    8.07331  ACCEPT\n",
      "--newton-- it:  83  |Delta|:  0.0207159  alpha:          1  evals:  84  f(y):    8.07331  ACCEPT\n",
      "--newton-- it:  84  |Delta|:  0.0207172  alpha:          1  evals:  85  f(y):    8.07331  ACCEPT\n",
      "--newton-- it:  85  |Delta|:  0.0207186  alpha:          1  evals:  86  f(y):    8.07331  ACCEPT\n",
      "--newton-- it:  86  |Delta|:  0.0207198  alpha:          1  evals:  87  f(y):    8.07331  ACCEPT\n",
      "--newton-- it:  87  |Delta|:  0.0207211  alpha:          1  evals:  88  f(y):    8.07331  ACCEPT\n",
      "--newton-- it:  88  |Delta|:  0.0207223  alpha:          1  evals:  89  f(y):    8.07331  ACCEPT\n",
      "--newton-- it:  89  |Delta|:  0.0207235  alpha:          1  evals:  90  f(y):    8.07331  ACCEPT\n",
      "--newton-- it:  90  |Delta|:  0.0207246  alpha:          1  evals:  91  f(y):    8.07331  ACCEPT\n",
      "--newton-- it:  91  |Delta|:  0.0207257  alpha:          1  evals:  92  f(y):    8.07331  ACCEPT\n",
      "--newton-- it:  92  |Delta|:  0.0207268  alpha:          1  evals:  93  f(y):    8.07331  ACCEPT\n",
      "--newton-- it:  93  |Delta|:  0.0207278  alpha:          1  evals:  94  f(y):    8.07331  ACCEPT\n",
      "--newton-- it:  94  |Delta|:  0.0207289  alpha:          1  evals:  95  f(y):    8.07331  ACCEPT\n",
      "--newton-- it:  95  |Delta|:  0.0207299  alpha:          1  evals:  96  f(y):    8.07331  ACCEPT\n",
      "--newton-- it:  96  |Delta|:  0.0207308  alpha:          1  evals:  97  f(y):    8.07331  ACCEPT\n",
      "--newton-- it:  97  |Delta|:  0.0207318  alpha:          1  evals:  98  f(y):    8.07331  ACCEPT\n",
      "--newton-- it:  98  |Delta|:  0.0207327  alpha:          1  evals:  99  f(y):    8.07331  ACCEPT\n",
      "--newton-- it:  99  |Delta|:  0.0207336  alpha:          1  evals: 100  f(y):    8.07331  ACCEPT\n",
      "--newton-- it: 100  |Delta|:  0.0207345  alpha:          1  evals: 101  f(y):    8.07331  ACCEPT\n",
      "--newton-- it: 101  |Delta|:  0.0207353  alpha:          1  evals: 102  f(y):    8.07331  ACCEPT\n",
      "--newton-- it: 102  |Delta|:  0.0207362  alpha:          1  evals: 103  f(y):    8.07331  ACCEPT\n",
      "--newton-- it: 103  |Delta|:   0.020737  alpha:          1  evals: 104  f(y):    8.07331  ACCEPT\n",
      "--newton-- it: 104  |Delta|:  0.0207378  alpha:          1  evals: 105  f(y):    8.07331  ACCEPT\n",
      "--newton-- it: 105  |Delta|:  0.0207386  alpha:          1  evals: 106  f(y):    8.07331  ACCEPT\n",
      "--newton-- it: 106  |Delta|:  0.0207394  alpha:          1  evals: 107  f(y):    8.07331  ACCEPT\n",
      "--newton-- it: 107  |Delta|:  0.0207401  alpha:          1  evals: 108  f(y):    8.07331  ACCEPT\n",
      "--newton-- it: 108  |Delta|:  0.0207408  alpha:          1  evals: 109  f(y):    8.07331  ACCEPT\n",
      "--newton-- it: 109  |Delta|:  0.0207416  alpha:          1  evals: 110  f(y):    8.07331  ACCEPT\n",
      "--newton-- it: 110  |Delta|:  0.0207423  alpha:          1  evals: 111  f(y):    8.07331  ACCEPT\n",
      "--newton-- it: 111  |Delta|:  0.0207429  alpha:          1  evals: 112  f(y):    8.07331  ACCEPT\n",
      "--newton-- it: 112  |Delta|:  0.0207436  alpha:          1  evals: 113  f(y):    8.07331  ACCEPT\n",
      "--newton-- it: 113  |Delta|:  0.0207443  alpha:          1  evals: 114  f(y):    8.07331  ACCEPT\n",
      "--newton-- it: 114  |Delta|:  0.0207449  alpha:          1  evals: 115  f(y):    8.07331  ACCEPT\n",
      "--newton-- it: 115  |Delta|:  0.0207456  alpha:          1  evals: 116  f(y):    8.07331  ACCEPT\n",
      "--newton-- it: 116  |Delta|:  0.0207462  alpha:          1  evals: 117  f(y):     8.0733  ACCEPT\n",
      "--newton-- it: 117  |Delta|:  0.0207468  alpha:          1  evals: 118  f(y):     8.0733  ACCEPT\n",
      "--newton-- it: 118  |Delta|:  0.0207474  alpha:          1  evals: 119  f(y):     8.0733  ACCEPT\n",
      "--newton-- it: 119  |Delta|:   0.020748  alpha:          1  evals: 120  f(y):     8.0733  ACCEPT\n",
      "--newton-- it: 120  |Delta|:  0.0207486  alpha:          1  evals: 121  f(y):     8.0733  ACCEPT\n",
      "--newton-- it: 121  |Delta|:  0.0207491  alpha:          1  evals: 122  f(y):     8.0733  ACCEPT\n",
      "--newton-- it: 122  |Delta|:  0.0207497  alpha:          1  evals: 123  f(y):     8.0733  ACCEPT\n",
      "--newton-- it: 123  |Delta|:  0.0207502  alpha:          1  evals: 124  f(y):     8.0733  ACCEPT\n",
      "--newton-- it: 124  |Delta|:  0.0207508  alpha:          1  evals: 125  f(y):     8.0733  ACCEPT\n",
      "--newton-- it: 125  |Delta|:  0.0207513  alpha:          1  evals: 126  f(y):     8.0733  ACCEPT\n",
      "--newton-- it: 126  |Delta|:  0.0207518  alpha:          1  evals: 127  f(y):     8.0733  ACCEPT\n",
      "--newton-- stopping: 'numTinyXSteps>4'\n",
      "==nlp== it:   2  evals: 127  A(x):     8.0733  f:    5.14962  g:          0  h:   0.524542  |x-x'|:   0.162336 \tstop:TinyXSteps (bad:2)\n",
      "==nlp== it:   3  evals: 127  A(x):    19.0695  mu:125\n",
      "--newton-- it: 127  |Delta|:        0.2  alpha:          1  evals: 128  f(y):    18.2519  ACCEPT\n",
      "--newton-- it: 128  |Delta|:        0.2  alpha:          1  evals: 129  f(y):    16.5457  ACCEPT\n",
      "--newton-- it: 129  |Delta|:        0.2  alpha:          1  evals: 130  f(y):     13.848  ACCEPT\n",
      "--newton-- it: 130  |Delta|:        0.2  alpha:          1  evals: 131  f(y):    10.7666  ACCEPT\n",
      "--newton-- it: 131  |Delta|:        0.2  alpha:          1  evals: 132  f(y):    8.26454  ACCEPT\n",
      "--newton-- it: 132  |Delta|:   0.143202  alpha:          1  evals: 133  f(y):    7.54293  ACCEPT\n",
      "--newton-- it: 133  |Delta|: 0.00328556  alpha:          1  evals: 134  f(y):     7.5358  ACCEPT\n",
      "--newton-- stopping: 'absMax(Delta)<options.stopTolerance'\n",
      "==nlp== it:   3  evals: 134  A(x):     7.5358  f:    8.00397  g:          0  h:  0.0964577  |x-x'|:    1.05295 \tstop:DeltaConverge\n",
      "==nlp== it:   4  evals: 134  A(x):     9.2834  mu:625\n",
      "--newton-- it: 134  |Delta|:  0.0758284  alpha:          1  evals: 135  f(y):    8.27847  ACCEPT\n",
      "--newton-- it: 135  |Delta|:        0.2  alpha:          1  evals: 136  f(y):    54.6801  reject (lineSearch:0)\n",
      "                    (line search)        alpha:        0.5  evals: 137  f(y):    21.6253  reject (lineSearch:1)\n",
      "                    (line search)        alpha:       0.25  evals: 138  f(y):    11.8534  reject (lineSearch:2)\n",
      "                    (line search)        alpha:      0.125  evals: 139  f(y):    9.19882  reject (lineSearch:3)\n",
      "                    (line search)        alpha:     0.0625  evals: 140  f(y):    8.50347  reject (lineSearch:4)\n",
      "                    (line search)        alpha:    0.03125  evals: 141  f(y):     8.3234  reject (lineSearch:5)\n",
      "                    (line search)        alpha:   0.015625  evals: 142  f(y):    8.27649  ACCEPT\n",
      "--newton-- it: 136  |Delta|: 0.00212695  alpha:  0.0234375  evals: 143  f(y):    8.27487  ACCEPT\n",
      "--newton-- stopping: 'absMax(Delta)<options.stopTolerance'\n",
      "==nlp== it:   4  evals: 143  A(x):    8.27487  f:    7.73405  g:          0  h:  0.0411887  |x-x'|:  0.0775454 \tstop:DeltaConverge\n",
      "==nlp== it:   5  evals: 143  A(x):    10.8772  mu:3125\n",
      "--newton-- it: 137  |Delta|: 0.00207286  alpha:  0.0351562  evals: 144  f(y):    10.8615  ACCEPT\n",
      "--newton-- stopping: 'absMax(Delta)<options.stopTolerance'\n",
      "==nlp== it:   5  evals: 144  A(x):    10.8615  f:    7.73421  g:          0  h:  0.0406632  |x-x'|: 7.2874e-05 \tstop:DeltaConverge\n",
      "==nlp== StoppingCriterion Delta<0.01\n",
      "----newton---- final f(x):10.8615\n"
     ]
    }
   ],
   "source": [
    "ret = ry.NLP_Solver() \\\n",
    "    .setProblem(komo.nlp()) \\\n",
    "    .setOptions( stopTolerance=1e-2, verbose=4 ) \\\n",
    "    .solve()\n",
    "print(ret)"
   ]
  },
  {
   "cell_type": "code",
   "execution_count": 30,
   "id": "e172b016",
   "metadata": {},
   "outputs": [
    {
     "data": {
      "text/plain": [
       "0"
      ]
     },
     "execution_count": 30,
     "metadata": {},
     "output_type": "execute_result"
    }
   ],
   "source": [
    "komo.view(False, \"waypoints solution\")"
   ]
  },
  {
   "cell_type": "code",
   "execution_count": 31,
   "id": "bd7c9300",
   "metadata": {},
   "outputs": [],
   "source": [
    "komo.view_close()\n",
    "path = komo.getPath()"
   ]
  },
  {
   "cell_type": "code",
   "execution_count": 32,
   "id": "8c9e0130",
   "metadata": {},
   "outputs": [],
   "source": [
    "bot = ry.BotOp(C, False)\n",
    "bot.home(C)"
   ]
  },
  {
   "cell_type": "code",
   "execution_count": 33,
   "id": "fef0c956",
   "metadata": {},
   "outputs": [],
   "source": [
    "bot.home(C)"
   ]
  },
  {
   "cell_type": "code",
   "execution_count": 34,
   "id": "03b8842d",
   "metadata": {},
   "outputs": [],
   "source": [
    "bot.gripperClose(ry._left)\n",
    "while not bot.gripperDone(ry._left):\n",
    "    bot.sync(C, .1)"
   ]
  },
  {
   "cell_type": "code",
   "execution_count": 35,
   "id": "ef3e902c",
   "metadata": {},
   "outputs": [],
   "source": [
    "bot.moveTo(path[0])\n",
    "bot.moveTo(path[1])\n",
    "while bot.getTimeToEnd()>0:\n",
    "    bot.sync(C, .1)"
   ]
  },
  {
   "cell_type": "code",
   "execution_count": 37,
   "id": "380f6540",
   "metadata": {},
   "outputs": [],
   "source": [
    "bot.home(C)"
   ]
  },
  {
   "cell_type": "code",
   "execution_count": 38,
   "id": "510a7f5a",
   "metadata": {},
   "outputs": [],
   "source": [
    "bot.gripperMove(ry._left)\n",
    "while not bot.gripperDone(ry._left):\n",
    "    bot.sync(C, .1)"
   ]
  },
  {
   "cell_type": "code",
   "execution_count": 39,
   "id": "25ea3e89",
   "metadata": {},
   "outputs": [
    {
     "name": "stdout",
     "output_type": "stream",
     "text": [
      "-- bot.cpp:~BotOp:118(0) shutting down BotOp...\n",
      "-- simulation.cpp:~BotThreadedSim:56(0) shutting down SimThread\n",
      "-- simulation.cpp:~Simulation:149(0) shutting down Simulation\n"
     ]
    }
   ],
   "source": [
    "del bot"
   ]
  },
  {
   "cell_type": "code",
   "execution_count": 40,
   "id": "6a93c1de",
   "metadata": {},
   "outputs": [],
   "source": [
    "del C"
   ]
  },
  {
   "cell_type": "code",
   "execution_count": null,
   "id": "53a9ece0",
   "metadata": {},
   "outputs": [],
   "source": []
  },
  {
   "cell_type": "code",
   "execution_count": null,
   "id": "5b96e8e6",
   "metadata": {},
   "outputs": [],
   "source": []
  }
 ],
 "metadata": {
  "kernelspec": {
   "display_name": "Python 3 (ipykernel)",
   "language": "python",
   "name": "python3"
  },
  "language_info": {
   "codemirror_mode": {
    "name": "ipython",
    "version": 3
   },
   "file_extension": ".py",
   "mimetype": "text/x-python",
   "name": "python",
   "nbconvert_exporter": "python",
   "pygments_lexer": "ipython3",
   "version": "3.8.10"
  }
 },
 "nbformat": 4,
 "nbformat_minor": 5
}
